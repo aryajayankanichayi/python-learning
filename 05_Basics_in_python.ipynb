{
  "nbformat": 4,
  "nbformat_minor": 0,
  "metadata": {
    "colab": {
      "provenance": [],
      "authorship_tag": "ABX9TyPbReAnZRga0DhNdRxBVQSo",
      "include_colab_link": true
    },
    "kernelspec": {
      "name": "python3",
      "display_name": "Python 3"
    },
    "language_info": {
      "name": "python"
    }
  },
  "cells": [
    {
      "cell_type": "markdown",
      "metadata": {
        "id": "view-in-github",
        "colab_type": "text"
      },
      "source": [
        "<a href=\"https://colab.research.google.com/github/aryajayankanichayi/python-learning/blob/main/05_Basics_in_python.ipynb\" target=\"_parent\"><img src=\"https://colab.research.google.com/assets/colab-badge.svg\" alt=\"Open In Colab\"/></a>"
      ]
    },
    {
      "cell_type": "code",
      "execution_count": null,
      "metadata": {
        "colab": {
          "base_uri": "https://localhost:8080/"
        },
        "id": "H3gkaEISI_gT",
        "outputId": "fd147337-a878-4faf-f76b-2797d505c8bc"
      },
      "outputs": [
        {
          "output_type": "stream",
          "name": "stdout",
          "text": [
            "hello world\n"
          ]
        }
      ],
      "source": [
        "print(\"hello world\")"
      ]
    },
    {
      "cell_type": "code",
      "source": [
        "print(\"Meera's Laptop\")"
      ],
      "metadata": {
        "colab": {
          "base_uri": "https://localhost:8080/"
        },
        "id": "pSGapzcMUJnJ",
        "outputId": "0831e6cb-240a-4dc8-c643-d06f73425600"
      },
      "execution_count": null,
      "outputs": [
        {
          "output_type": "stream",
          "name": "stdout",
          "text": [
            "Meera's Laptop\n"
          ]
        }
      ]
    },
    {
      "cell_type": "code",
      "source": [
        "name ='youtube'\n",
        "name[0]\n",
        "name[-1]\n",
        "name[1:4]\n",
        "name[3:10]\n",
        "len(name)"
      ],
      "metadata": {
        "colab": {
          "base_uri": "https://localhost:8080/"
        },
        "id": "0OYrL20pY5Fv",
        "outputId": "aa0bd129-61cc-444f-90c7-b1364eb3fa85"
      },
      "execution_count": null,
      "outputs": [
        {
          "output_type": "execute_result",
          "data": {
            "text/plain": [
              "7"
            ]
          },
          "metadata": {},
          "execution_count": 18
        }
      ]
    },
    {
      "cell_type": "markdown",
      "source": [
        "Lists"
      ],
      "metadata": {
        "id": "i7bVKoU5a_Ru"
      }
    },
    {
      "cell_type": "code",
      "source": [
        "L=[12,14,13,24,56]\n",
        "L[2]\n",
        "L[-2]\n",
        "names=['navin','clara','maya','teena']\n",
        "names[::-2]\n",
        "mil=[L,names]\n",
        "#print(mil)\n",
        "L.insert(2,100)\n",
        "#print(L)\n",
        "L.append(10)\n",
        "#print(L)\n",
        "L.remove(13)\n",
        "#print(L)\n",
        "L.pop()\n",
        "#print(L)\n",
        "del L[2:]\n",
        "#print(L)\n",
        "L.extend([43,56,17,22])\n",
        "print(L)\n",
        "min(L)\n",
        "max(L)\n",
        "L.sort()\n",
        "print(L)\n"
      ],
      "metadata": {
        "colab": {
          "base_uri": "https://localhost:8080/"
        },
        "id": "KyiWVKrea8sm",
        "outputId": "d94f6107-27eb-4110-8331-67df3924751c"
      },
      "execution_count": null,
      "outputs": [
        {
          "output_type": "stream",
          "name": "stdout",
          "text": [
            "[12, 14, 43, 56, 17, 22]\n",
            "[12, 14, 17, 22, 43, 56]\n"
          ]
        }
      ]
    },
    {
      "cell_type": "markdown",
      "source": [
        "Tuples"
      ],
      "metadata": {
        "id": "8O8eSqQfgzfF"
      }
    },
    {
      "cell_type": "code",
      "source": [
        "tup=(21,36,14,25)\n",
        "print(tup)"
      ],
      "metadata": {
        "id": "pKlX9A0yg1SP",
        "colab": {
          "base_uri": "https://localhost:8080/"
        },
        "outputId": "baa28e02-b206-4293-fe65-92cfa2442bf9"
      },
      "execution_count": null,
      "outputs": [
        {
          "output_type": "stream",
          "name": "stdout",
          "text": [
            "(21, 36, 14, 25)\n"
          ]
        }
      ]
    },
    {
      "cell_type": "markdown",
      "source": [
        "Set"
      ],
      "metadata": {
        "id": "v0oJzUrQciRo"
      }
    },
    {
      "cell_type": "code",
      "source": [
        "s={22,25,14,21,5}\n",
        "print(s)"
      ],
      "metadata": {
        "colab": {
          "base_uri": "https://localhost:8080/"
        },
        "id": "rAOZU3fzcQMk",
        "outputId": "245ac69f-d023-49f0-e09c-86a4f5e63330"
      },
      "execution_count": null,
      "outputs": [
        {
          "output_type": "stream",
          "name": "stdout",
          "text": [
            "{5, 21, 22, 25, 14}\n"
          ]
        }
      ]
    },
    {
      "cell_type": "markdown",
      "source": [
        "Dictionary"
      ],
      "metadata": {
        "id": "VCIv3Pt3dV8J"
      }
    },
    {
      "cell_type": "code",
      "source": [
        "data={1:'Navin',2:\"Kiran\",4:\"Harsh\"}\n",
        "data[4]\n",
        "data.get(3)\n",
        "data.keys()"
      ],
      "metadata": {
        "id": "bu7rjs62dX7q",
        "colab": {
          "base_uri": "https://localhost:8080/"
        },
        "outputId": "8fafbb02-c634-48a4-a75c-eb4023cc2f3d"
      },
      "execution_count": null,
      "outputs": [
        {
          "output_type": "execute_result",
          "data": {
            "text/plain": [
              "dict_keys([1, 2, 4])"
            ]
          },
          "metadata": {},
          "execution_count": 7
        }
      ]
    },
    {
      "cell_type": "code",
      "source": [
        "keys=[\"Navin\",\"Harsh\",\"Kiran\"]\n",
        "values=[\"python\",\"Java\",\"JS\"]\n",
        "data=dict(zip(keys,values))\n",
        "data['Monika']='C#'\n",
        "del data['Harsh']\n",
        "print(data)"
      ],
      "metadata": {
        "colab": {
          "base_uri": "https://localhost:8080/"
        },
        "id": "6o6rqwCurFtx",
        "outputId": "d3c070e4-720b-4761-a0f7-f64b90e36727"
      },
      "execution_count": null,
      "outputs": [
        {
          "output_type": "stream",
          "name": "stdout",
          "text": [
            "{'Navin': 'python', 'Kiran': 'JS', 'Monika': 'C#'}\n"
          ]
        }
      ]
    },
    {
      "cell_type": "markdown",
      "source": [
        "Variables"
      ],
      "metadata": {
        "id": "GbHvKs_5uIQM"
      }
    },
    {
      "cell_type": "code",
      "source": [
        "name=5\n",
        "id(name)\n",
        "a=6\n",
        "b=a\n",
        "id(a)\n",
        "id(b)"
      ],
      "metadata": {
        "colab": {
          "base_uri": "https://localhost:8080/"
        },
        "id": "TsxZu9HBuHub",
        "outputId": "5c4359b8-0826-4060-8973-f90eb0b279de"
      },
      "execution_count": null,
      "outputs": [
        {
          "output_type": "execute_result",
          "data": {
            "text/plain": [
              "10751016"
            ]
          },
          "metadata": {},
          "execution_count": 12
        }
      ]
    },
    {
      "cell_type": "markdown",
      "source": [
        "Range"
      ],
      "metadata": {
        "id": "CfibTCuWPUul"
      }
    },
    {
      "cell_type": "code",
      "source": [
        "range(0,10)\n",
        "list(range(10))"
      ],
      "metadata": {
        "colab": {
          "base_uri": "https://localhost:8080/"
        },
        "id": "pHM1TC9SNLs1",
        "outputId": "5c8cf1d5-e27e-4240-bc53-5edeae477433"
      },
      "execution_count": null,
      "outputs": [
        {
          "output_type": "execute_result",
          "data": {
            "text/plain": [
              "[0, 1, 2, 3, 4, 5, 6, 7, 8, 9]"
            ]
          },
          "metadata": {},
          "execution_count": 2
        }
      ]
    },
    {
      "cell_type": "code",
      "source": [
        "list(range(2,11,2))\n"
      ],
      "metadata": {
        "colab": {
          "base_uri": "https://localhost:8080/"
        },
        "id": "79Al1_CjPrO5",
        "outputId": "f2969456-d5b3-4b5a-bed5-07e599eb798a"
      },
      "execution_count": null,
      "outputs": [
        {
          "output_type": "execute_result",
          "data": {
            "text/plain": [
              "[2, 4, 6, 8, 10]"
            ]
          },
          "metadata": {},
          "execution_count": 3
        }
      ]
    },
    {
      "cell_type": "code",
      "source": [
        "list(range(1,10,3))"
      ],
      "metadata": {
        "colab": {
          "base_uri": "https://localhost:8080/"
        },
        "id": "6p4U4v_jP5dA",
        "outputId": "6b64ff6c-d8c5-4ff7-e76f-2a10232145d8"
      },
      "execution_count": null,
      "outputs": [
        {
          "output_type": "execute_result",
          "data": {
            "text/plain": [
              "[1, 4, 7]"
            ]
          },
          "metadata": {},
          "execution_count": 4
        }
      ]
    },
    {
      "cell_type": "markdown",
      "source": [
        "Operators"
      ],
      "metadata": {
        "id": "nOTRY2luRSLf"
      }
    },
    {
      "cell_type": "markdown",
      "source": [
        "Arithmetic operators"
      ],
      "metadata": {
        "id": "G7Ph0H0wRddZ"
      }
    },
    {
      "cell_type": "code",
      "source": [
        "x=2\n",
        "y=3\n",
        "x+y"
      ],
      "metadata": {
        "colab": {
          "base_uri": "https://localhost:8080/"
        },
        "id": "n0mR7F51RW3Q",
        "outputId": "5cbbefa8-474b-42b3-a8d2-b0caa44ca973"
      },
      "execution_count": null,
      "outputs": [
        {
          "output_type": "execute_result",
          "data": {
            "text/plain": [
              "5"
            ]
          },
          "metadata": {},
          "execution_count": 8
        }
      ]
    },
    {
      "cell_type": "markdown",
      "source": [
        "Code to swap two variables without temporary variable"
      ],
      "metadata": {
        "id": "AJW-g-0uAKnm"
      }
    },
    {
      "cell_type": "code",
      "source": [
        "x=50\n",
        "y=35\n",
        "x=x+y\n",
        "y=x-y\n",
        "x=x-y\n",
        "print(x)\n",
        "print(y)"
      ],
      "metadata": {
        "id": "jC0C4nCORcS1",
        "colab": {
          "base_uri": "https://localhost:8080/"
        },
        "outputId": "724fb9d3-8a98-4f84-e517-0dea8661abfd"
      },
      "execution_count": null,
      "outputs": [
        {
          "output_type": "stream",
          "name": "stdout",
          "text": [
            "35\n",
            "50\n"
          ]
        }
      ]
    },
    {
      "cell_type": "markdown",
      "source": [
        "Mathemaatical Functions"
      ],
      "metadata": {
        "id": "ZV1SUDlJCNG2"
      }
    },
    {
      "cell_type": "code",
      "source": [
        "import math\n",
        "x=math.sqrt(25)\n",
        "print(x)"
      ],
      "metadata": {
        "colab": {
          "base_uri": "https://localhost:8080/"
        },
        "id": "JooVzrv1CSTY",
        "outputId": "6349919d-6501-4073-dd24-621983551525"
      },
      "execution_count": null,
      "outputs": [
        {
          "output_type": "stream",
          "name": "stdout",
          "text": [
            "5.0\n"
          ]
        }
      ]
    },
    {
      "cell_type": "code",
      "source": [
        "import math\n",
        "print(math.floor(2.9))"
      ],
      "metadata": {
        "colab": {
          "base_uri": "https://localhost:8080/"
        },
        "id": "vT90AvIJDBI_",
        "outputId": "4c67ad04-5865-4e73-c722-a472cc5373cb"
      },
      "execution_count": null,
      "outputs": [
        {
          "output_type": "stream",
          "name": "stdout",
          "text": [
            "2\n"
          ]
        }
      ]
    },
    {
      "cell_type": "code",
      "source": [
        "import math\n",
        "print(math.ceil(2.3))"
      ],
      "metadata": {
        "colab": {
          "base_uri": "https://localhost:8080/"
        },
        "id": "r_YLN9cWDPOF",
        "outputId": "5f6943a1-52c7-4b3b-816d-02007be9b7e3"
      },
      "execution_count": null,
      "outputs": [
        {
          "output_type": "stream",
          "name": "stdout",
          "text": [
            "3\n"
          ]
        }
      ]
    },
    {
      "cell_type": "code",
      "source": [
        "print(math.pow(3,2))"
      ],
      "metadata": {
        "colab": {
          "base_uri": "https://localhost:8080/"
        },
        "id": "48y8ECevDcIb",
        "outputId": "ee22ca38-9623-45a4-b4fb-d3cef93aeda1"
      },
      "execution_count": null,
      "outputs": [
        {
          "output_type": "stream",
          "name": "stdout",
          "text": [
            "9.0\n"
          ]
        }
      ]
    },
    {
      "cell_type": "code",
      "source": [
        "print(math.pi)"
      ],
      "metadata": {
        "colab": {
          "base_uri": "https://localhost:8080/"
        },
        "id": "oY350jx_DsKB",
        "outputId": "74eb6397-40a9-481f-e2a4-bee68732e274"
      },
      "execution_count": null,
      "outputs": [
        {
          "output_type": "stream",
          "name": "stdout",
          "text": [
            "3.141592653589793\n"
          ]
        }
      ]
    },
    {
      "cell_type": "markdown",
      "source": [
        "Importing math as m"
      ],
      "metadata": {
        "id": "lX6H-RjXD1X4"
      }
    },
    {
      "cell_type": "code",
      "source": [
        "import math as m\n",
        "print(m.sqrt(16))"
      ],
      "metadata": {
        "colab": {
          "base_uri": "https://localhost:8080/"
        },
        "id": "p1yVHQRJD06-",
        "outputId": "4cb10f74-92ed-4c03-b6f6-e4494a7046d4"
      },
      "execution_count": null,
      "outputs": [
        {
          "output_type": "stream",
          "name": "stdout",
          "text": [
            "4.0\n"
          ]
        }
      ]
    },
    {
      "cell_type": "code",
      "source": [
        "print(m.e)"
      ],
      "metadata": {
        "colab": {
          "base_uri": "https://localhost:8080/"
        },
        "id": "xs20S-9KEUNa",
        "outputId": "8cc0126c-d94c-4f2e-80aa-7fc2c1f8e13b"
      },
      "execution_count": null,
      "outputs": [
        {
          "output_type": "stream",
          "name": "stdout",
          "text": [
            "2.718281828459045\n"
          ]
        }
      ]
    },
    {
      "cell_type": "markdown",
      "source": [
        "Importing specific function"
      ],
      "metadata": {
        "id": "YayEIFpZEg-7"
      }
    },
    {
      "cell_type": "code",
      "source": [
        "from math import sqrt,pow\n",
        "print(pow(3,2))"
      ],
      "metadata": {
        "colab": {
          "base_uri": "https://localhost:8080/"
        },
        "id": "2kyPNBRQEuQg",
        "outputId": "23363950-0cb2-4a4b-9c70-2e317cc98650"
      },
      "execution_count": null,
      "outputs": [
        {
          "output_type": "stream",
          "name": "stdout",
          "text": [
            "9.0\n"
          ]
        }
      ]
    },
    {
      "cell_type": "code",
      "source": [
        "print(sqrt(81))"
      ],
      "metadata": {
        "colab": {
          "base_uri": "https://localhost:8080/"
        },
        "id": "uLYjk2EtE7mZ",
        "outputId": "cc04be8b-00ce-4b1f-fd66-a9b8553ccfaf"
      },
      "execution_count": null,
      "outputs": [
        {
          "output_type": "stream",
          "name": "stdout",
          "text": [
            "9.0\n"
          ]
        }
      ]
    },
    {
      "cell_type": "code",
      "source": [],
      "metadata": {
        "id": "SvoHEAQsGwYU"
      },
      "execution_count": null,
      "outputs": []
    }
  ]
}