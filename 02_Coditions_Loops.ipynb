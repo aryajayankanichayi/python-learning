{
  "nbformat": 4,
  "nbformat_minor": 0,
  "metadata": {
    "colab": {
      "provenance": [],
      "authorship_tag": "ABX9TyNSTB2D0YCHW2X8sJ5XbZqq",
      "include_colab_link": true
    },
    "kernelspec": {
      "name": "python3",
      "display_name": "Python 3"
    },
    "language_info": {
      "name": "python"
    }
  },
  "cells": [
    {
      "cell_type": "markdown",
      "metadata": {
        "id": "view-in-github",
        "colab_type": "text"
      },
      "source": [
        "<a href=\"https://colab.research.google.com/github/aryajayankanichayi/python-learning/blob/main/02_Coditions_Loops.ipynb\" target=\"_parent\"><img src=\"https://colab.research.google.com/assets/colab-badge.svg\" alt=\"Open In Colab\"/></a>"
      ]
    },
    {
      "cell_type": "markdown",
      "source": [
        "Conditions\n",
        "\n",
        "\n",
        "*   if conditon\n",
        "\n",
        "\n"
      ],
      "metadata": {
        "id": "rZ6NKb02H4V0"
      }
    },
    {
      "cell_type": "markdown",
      "source": [
        "Even Number\n",
        "\n",
        "\n",
        "\n"
      ],
      "metadata": {
        "id": "SGAC1VNBJAqw"
      }
    },
    {
      "cell_type": "code",
      "source": [
        "x=8\n",
        "r=x%2\n",
        "if r==0:\n",
        "    print(\"Even\")\n"
      ],
      "metadata": {
        "colab": {
          "base_uri": "https://localhost:8080/"
        },
        "id": "0R5ryD-xISXf",
        "outputId": "16d28617-4247-40d2-bf5e-2128db155d98"
      },
      "execution_count": 2,
      "outputs": [
        {
          "output_type": "stream",
          "name": "stdout",
          "text": [
            "Even\n"
          ]
        }
      ]
    },
    {
      "cell_type": "markdown",
      "source": [
        "if - else condition"
      ],
      "metadata": {
        "id": "6IwtHtz7JlMX"
      }
    },
    {
      "cell_type": "code",
      "execution_count": 3,
      "metadata": {
        "colab": {
          "base_uri": "https://localhost:8080/"
        },
        "id": "Pl6Pygv6GsJ_",
        "outputId": "a9467ea4-9e42-4923-b308-03a155acd91e"
      },
      "outputs": [
        {
          "output_type": "stream",
          "name": "stdout",
          "text": [
            "Even\n"
          ]
        }
      ],
      "source": [
        "x=8\n",
        "r=x%2\n",
        "if r==0:\n",
        "    print(\"Even\")\n",
        "else:\n",
        "    print(\"Odd\")"
      ]
    },
    {
      "cell_type": "markdown",
      "source": [
        "Nested if"
      ],
      "metadata": {
        "id": "sY5mPTvNKaDX"
      }
    },
    {
      "cell_type": "code",
      "source": [
        "x=8\n",
        "r=x%2\n",
        "if r==0:\n",
        "    print(\"Even\")\n",
        "    if x>5:\n",
        "      print(\"Greater\")\n",
        "    else:\n",
        "      print(\"lesser\")"
      ],
      "metadata": {
        "colab": {
          "base_uri": "https://localhost:8080/"
        },
        "id": "eSJN6PboKggc",
        "outputId": "346b3f1c-96fe-419e-bb3c-af70e43e174b"
      },
      "execution_count": 5,
      "outputs": [
        {
          "output_type": "stream",
          "name": "stdout",
          "text": [
            "Even\n",
            "Greater\n"
          ]
        }
      ]
    },
    {
      "cell_type": "markdown",
      "source": [
        "elif"
      ],
      "metadata": {
        "id": "TA3a4rgKLAOO"
      }
    },
    {
      "cell_type": "code",
      "source": [
        "x=2\n",
        "if x==1:\n",
        "  print(\"One\")\n",
        "elif(x==2):\n",
        "  print(\"Two\")\n",
        "else:\n",
        "  print(\"wrong input\")"
      ],
      "metadata": {
        "colab": {
          "base_uri": "https://localhost:8080/"
        },
        "id": "CJOSzsdTLEbO",
        "outputId": "9eeb2888-5fcb-4a6a-bb30-f1de161f8d07"
      },
      "execution_count": 6,
      "outputs": [
        {
          "output_type": "stream",
          "name": "stdout",
          "text": [
            "Two\n"
          ]
        }
      ]
    },
    {
      "cell_type": "markdown",
      "source": [
        "Check the given number is positive or negative"
      ],
      "metadata": {
        "id": "vngq0mg2L_Ve"
      }
    },
    {
      "cell_type": "code",
      "source": [
        "x=int(input(\"enter the number:\"))\n",
        "if x%2==0:\n",
        "  print(\"positive\")\n",
        "else:\n",
        "  print(\"Negative\")"
      ],
      "metadata": {
        "colab": {
          "base_uri": "https://localhost:8080/"
        },
        "id": "LroFyu5AL9Zz",
        "outputId": "1ecb77a5-6a13-4aaf-d842-433f51a33eab"
      },
      "execution_count": 10,
      "outputs": [
        {
          "output_type": "stream",
          "name": "stdout",
          "text": [
            "enter the number:357\n",
            "Negative\n"
          ]
        }
      ]
    },
    {
      "cell_type": "markdown",
      "source": [
        "Input three numbsers from user and find the greatest amoung them"
      ],
      "metadata": {
        "id": "ujiGB1pXPsWS"
      }
    },
    {
      "cell_type": "code",
      "source": [
        "\n",
        "  x=int(input(\"enter 1st number:\"))\n",
        "  y=int(input(\"enter 2nd number:\"))\n",
        "  z=int(input(\"enter 3rd number:\"))\n",
        "  if x>y and x>z:\n",
        "    print(\"x is greater\")\n",
        "  elif y>x and y>z:\n",
        "    print(\"y is greater\")\n",
        "  else:\n",
        "    print(\"z is greater\")"
      ],
      "metadata": {
        "colab": {
          "base_uri": "https://localhost:8080/"
        },
        "id": "uFeLIf9NNBD-",
        "outputId": "73280870-cf9f-4336-9c5a-b644002d904b"
      },
      "execution_count": 12,
      "outputs": [
        {
          "output_type": "stream",
          "name": "stdout",
          "text": [
            "enter 1st number:25\n",
            "enter 2nd number:67\n",
            "enter 3rd number:123\n",
            "z is greater\n"
          ]
        }
      ]
    },
    {
      "cell_type": "markdown",
      "source": [
        "Loops\n",
        "\n",
        "\n",
        "*   While loop\n",
        "*   Nested while loop\n",
        "*   For loop\n",
        "\n",
        "\n",
        "\n",
        "\n"
      ],
      "metadata": {
        "id": "Cc2txFDwQCQc"
      }
    },
    {
      "cell_type": "markdown",
      "source": [
        "While Loop\n",
        "*  Print \"Hello\" five times\n",
        "\n"
      ],
      "metadata": {
        "id": "zazhLhLWREKH"
      }
    },
    {
      "cell_type": "code",
      "source": [
        "i=1\n",
        "while  i<=5:\n",
        "  print(\"Hello\")\n",
        "  i=i+1"
      ],
      "metadata": {
        "colab": {
          "base_uri": "https://localhost:8080/"
        },
        "id": "jzUFnWHNQb1w",
        "outputId": "4b36aa3a-319b-4243-f4e9-d5afa47f28e1"
      },
      "execution_count": 13,
      "outputs": [
        {
          "output_type": "stream",
          "name": "stdout",
          "text": [
            "Hello\n",
            "Hello\n",
            "Hello\n",
            "Hello\n",
            "Hello\n"
          ]
        }
      ]
    },
    {
      "cell_type": "markdown",
      "source": [
        "Nested while loop\n"
      ],
      "metadata": {
        "id": "nrNTJhOEVVbg"
      }
    },
    {
      "cell_type": "code",
      "source": [
        "i=1\n",
        "while i<5:\n",
        "  print(\"Hello \",end=\"\")\n",
        "  j=1\n",
        "  while j<=4:\n",
        "    print(\"World \",end=\"\")\n",
        "    j=j+1\n",
        "  i=i+1\n",
        "  print()"
      ],
      "metadata": {
        "colab": {
          "base_uri": "https://localhost:8080/"
        },
        "id": "_I_b53MpVT_L",
        "outputId": "0fbba453-bc13-40a7-e84e-683eb3468dd9"
      },
      "execution_count": 19,
      "outputs": [
        {
          "output_type": "stream",
          "name": "stdout",
          "text": [
            "Hello World World World World \n",
            "Hello World World World World \n",
            "Hello World World World World \n",
            "Hello World World World World \n"
          ]
        }
      ]
    },
    {
      "cell_type": "markdown",
      "source": [
        "For Loop"
      ],
      "metadata": {
        "id": "16TsvwZJM8SY"
      }
    },
    {
      "cell_type": "code",
      "source": [
        "x='Priya'\n",
        "for i in x:\n",
        "  print(i)"
      ],
      "metadata": {
        "colab": {
          "base_uri": "https://localhost:8080/"
        },
        "id": "aLOBJXz0M_5G",
        "outputId": "ae550ece-001c-4b26-d6c2-7febfcb8cf0b"
      },
      "execution_count": 1,
      "outputs": [
        {
          "output_type": "stream",
          "name": "stdout",
          "text": [
            "P\n",
            "r\n",
            "i\n",
            "y\n",
            "a\n"
          ]
        }
      ]
    },
    {
      "cell_type": "code",
      "source": [
        "for i in range(1,11):\n",
        "  print(i)"
      ],
      "metadata": {
        "colab": {
          "base_uri": "https://localhost:8080/"
        },
        "id": "4vShVefRNrsa",
        "outputId": "00d44217-946c-4677-87a9-b5a6aa13ed63"
      },
      "execution_count": 3,
      "outputs": [
        {
          "output_type": "stream",
          "name": "stdout",
          "text": [
            "1\n",
            "2\n",
            "3\n",
            "4\n",
            "5\n",
            "6\n",
            "7\n",
            "8\n",
            "9\n",
            "10\n"
          ]
        }
      ]
    },
    {
      "cell_type": "markdown",
      "source": [
        "Print Odd numbers between 1 to 20"
      ],
      "metadata": {
        "id": "6DFR9rtBOVD8"
      }
    },
    {
      "cell_type": "markdown",
      "source": [
        "Range"
      ],
      "metadata": {
        "id": "yNcGgV3-TTMt"
      }
    },
    {
      "cell_type": "code",
      "source": [
        "for i in range(1,20,2):\n",
        "  print(i)"
      ],
      "metadata": {
        "colab": {
          "base_uri": "https://localhost:8080/"
        },
        "id": "ySQXsutgOEmx",
        "outputId": "53ede843-3b0e-4899-ecfa-0155b062afb1"
      },
      "execution_count": 4,
      "outputs": [
        {
          "output_type": "stream",
          "name": "stdout",
          "text": [
            "1\n",
            "3\n",
            "5\n",
            "7\n",
            "9\n",
            "11\n",
            "13\n",
            "15\n",
            "17\n",
            "19\n"
          ]
        }
      ]
    },
    {
      "cell_type": "markdown",
      "source": [
        "Print perfect square numbers between 1 and 200"
      ],
      "metadata": {
        "id": "eR7rkG2uPyf8"
      }
    },
    {
      "cell_type": "code",
      "source": [
        "import math as m\n",
        "#Loop through numbers from 1 to 200\n",
        "for num in range(1,201):\n",
        "#Check if the square root of the number is an integer\n",
        "  if m.isqrt(num)**2==num:\n",
        "    print(num)"
      ],
      "metadata": {
        "colab": {
          "base_uri": "https://localhost:8080/"
        },
        "id": "n_PAOjNTP9d1",
        "outputId": "ac5672cf-fc7a-4539-8599-d911c3f675dc"
      },
      "execution_count": 5,
      "outputs": [
        {
          "output_type": "stream",
          "name": "stdout",
          "text": [
            "1\n",
            "4\n",
            "9\n",
            "16\n",
            "25\n",
            "36\n",
            "49\n",
            "64\n",
            "81\n",
            "100\n",
            "121\n",
            "144\n",
            "169\n",
            "196\n"
          ]
        }
      ]
    },
    {
      "cell_type": "markdown",
      "source": [
        "Keywords:\n",
        "\n",
        "*   Break\n",
        "*   Continue\n",
        "*   Pass\n",
        "\n",
        "\n",
        "\n",
        "\n",
        "\n"
      ],
      "metadata": {
        "id": "kpVh62vZTcME"
      }
    },
    {
      "cell_type": "markdown",
      "source": [
        "Break"
      ],
      "metadata": {
        "id": "1ildgWBVUdTI"
      }
    },
    {
      "cell_type": "code",
      "source": [
        "available = 5\n",
        "x = int(input(\"Number of candies you want:\"))\n",
        "i=1\n",
        "while i<=x:\n",
        "  if i>available:\n",
        "    print(\"Out of stock\")\n",
        "    break\n",
        "  print(\"Candy\")\n",
        "  i=i+1\n"
      ],
      "metadata": {
        "colab": {
          "base_uri": "https://localhost:8080/"
        },
        "id": "wrWhCT_rTwli",
        "outputId": "97bb15d3-23fa-4b9b-e207-9496a8e3bac6"
      },
      "execution_count": 6,
      "outputs": [
        {
          "output_type": "stream",
          "name": "stdout",
          "text": [
            "Number of candies you want:8\n",
            "Candy\n",
            "Candy\n",
            "Candy\n",
            "Candy\n",
            "Candy\n",
            "Out of stock\n"
          ]
        }
      ]
    },
    {
      "cell_type": "markdown",
      "source": [
        "Continue"
      ],
      "metadata": {
        "id": "x5-H13ZlVSzj"
      }
    },
    {
      "cell_type": "markdown",
      "source": [
        "Print all numbers from 1 to 30 which are perfect squares and are not the multiple of 3 and 5"
      ],
      "metadata": {
        "id": "R6qNW3lpYMr1"
      }
    },
    {
      "cell_type": "code",
      "source": [
        "import math as m\n",
        "#Loop through numbers from 1 to 10\n",
        "for num in range(1,30):\n",
        "#Check if the square root of the number is an integer\n",
        "  if m.isqrt(num)**2==num:\n",
        "#Check if num is multiple of 3 and 5\n",
        "     if num%3==0 or num%5==0:\n",
        "        continue\n",
        "     print(num)"
      ],
      "metadata": {
        "colab": {
          "base_uri": "https://localhost:8080/"
        },
        "id": "Oh-qyQ1hVXSj",
        "outputId": "3f3556e9-8166-43a1-8f4e-d0e4572d22ea"
      },
      "execution_count": 38,
      "outputs": [
        {
          "output_type": "stream",
          "name": "stdout",
          "text": [
            "1\n",
            "4\n",
            "16\n"
          ]
        }
      ]
    },
    {
      "cell_type": "markdown",
      "source": [
        "Pass"
      ],
      "metadata": {
        "id": "XyMOWM4lZE5p"
      }
    },
    {
      "cell_type": "code",
      "source": [
        "for i in range(1,10):\n",
        "  if i%2!=0:\n",
        "    pass\n",
        "  else:\n",
        "    print(i)"
      ],
      "metadata": {
        "colab": {
          "base_uri": "https://localhost:8080/"
        },
        "id": "HfMgmGaEZF7j",
        "outputId": "f6bad272-c482-4b41-dc95-4f944b2f3934"
      },
      "execution_count": 39,
      "outputs": [
        {
          "output_type": "stream",
          "name": "stdout",
          "text": [
            "2\n",
            "4\n",
            "6\n",
            "8\n"
          ]
        }
      ]
    }
  ]
}