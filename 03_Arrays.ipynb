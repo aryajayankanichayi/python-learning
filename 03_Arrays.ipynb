{
  "nbformat": 4,
  "nbformat_minor": 0,
  "metadata": {
    "colab": {
      "provenance": [],
      "authorship_tag": "ABX9TyMDzDqU523ks0k3jIOfD38E",
      "include_colab_link": true
    },
    "kernelspec": {
      "name": "python3",
      "display_name": "Python 3"
    },
    "language_info": {
      "name": "python"
    }
  },
  "cells": [
    {
      "cell_type": "markdown",
      "metadata": {
        "id": "view-in-github",
        "colab_type": "text"
      },
      "source": [
        "<a href=\"https://colab.research.google.com/github/aryajayankanichayi/python-learning/blob/main/03_Arrays.ipynb\" target=\"_parent\"><img src=\"https://colab.research.google.com/assets/colab-badge.svg\" alt=\"Open In Colab\"/></a>"
      ]
    },
    {
      "cell_type": "markdown",
      "source": [
        "Arrrays in Python"
      ],
      "metadata": {
        "id": "yLWL888gi28s"
      }
    },
    {
      "cell_type": "code",
      "execution_count": null,
      "metadata": {
        "colab": {
          "base_uri": "https://localhost:8080/"
        },
        "id": "cmWxWsarhUX0",
        "outputId": "1ff73677-9a02-4f67-a277-9189b3615e67"
      },
      "outputs": [
        {
          "output_type": "stream",
          "name": "stdout",
          "text": [
            "array('i', [5, 9, 8, 4, 2])\n"
          ]
        }
      ],
      "source": [
        "from array import *\n",
        "vals=array('i',[5,9,8,4,2])\n",
        "print(vals)"
      ]
    },
    {
      "cell_type": "markdown",
      "source": [
        "buffer_info()\n",
        "     -> returns address and array size\n",
        "\n"
      ],
      "metadata": {
        "id": "-FubBI-8kkCU"
      }
    },
    {
      "cell_type": "code",
      "source": [
        "from array import *\n",
        "vals=array('i',[5,9,8,4,2])\n",
        "print(vals.buffer_info())"
      ],
      "metadata": {
        "colab": {
          "base_uri": "https://localhost:8080/"
        },
        "id": "lq1tZhFdkzpa",
        "outputId": "9aa48d0b-33ff-485e-8f8d-aa5448d5f8ff"
      },
      "execution_count": null,
      "outputs": [
        {
          "output_type": "stream",
          "name": "stdout",
          "text": [
            "(135023982061968, 5)\n"
          ]
        }
      ]
    },
    {
      "cell_type": "markdown",
      "source": [
        "typecode -> returns type of the code your working with"
      ],
      "metadata": {
        "id": "x8wK1jJ2q6rX"
      }
    },
    {
      "cell_type": "code",
      "source": [
        "from array import *\n",
        "vals=array('i',[5,9,8,4,2])\n",
        "print(vals.typecode)"
      ],
      "metadata": {
        "colab": {
          "base_uri": "https://localhost:8080/"
        },
        "id": "bI_I2q7xrJkz",
        "outputId": "f58e9363-609a-4e25-bde2-b89f8ed2c4b8"
      },
      "execution_count": null,
      "outputs": [
        {
          "output_type": "stream",
          "name": "stdout",
          "text": [
            "i\n"
          ]
        }
      ]
    },
    {
      "cell_type": "markdown",
      "source": [
        "reverse()-> to reverse the array"
      ],
      "metadata": {
        "id": "NLbf_xeqrTOP"
      }
    },
    {
      "cell_type": "code",
      "source": [
        "from array import *\n",
        "vals=array('i',[5,9,8,4,2])\n",
        "vals.reverse()\n",
        "#print(vals)"
      ],
      "metadata": {
        "colab": {
          "base_uri": "https://localhost:8080/"
        },
        "id": "RYDyouK7rbty",
        "outputId": "b4cc57f5-bc62-4123-ff46-7510433240dc"
      },
      "execution_count": null,
      "outputs": [
        {
          "output_type": "stream",
          "name": "stdout",
          "text": [
            "array('i', [2, 4, 8, 9, 5])\n"
          ]
        }
      ]
    },
    {
      "cell_type": "code",
      "source": [
        "from array import *\n",
        "vals=array('i',[5,9,8,4,2])\n",
        "vals.reverse()\n",
        "for i in range(5):\n",
        "  print(vals[i])"
      ],
      "metadata": {
        "colab": {
          "base_uri": "https://localhost:8080/"
        },
        "id": "Kugi2revrnSd",
        "outputId": "73b477d6-bc6a-44b9-8626-db6263b72feb"
      },
      "execution_count": null,
      "outputs": [
        {
          "output_type": "stream",
          "name": "stdout",
          "text": [
            "2\n",
            "4\n",
            "8\n",
            "9\n",
            "5\n"
          ]
        }
      ]
    },
    {
      "cell_type": "markdown",
      "source": [
        "len()->to get the length"
      ],
      "metadata": {
        "id": "TsZp_lxxsF9l"
      }
    },
    {
      "cell_type": "code",
      "source": [
        "from array import *\n",
        "vals=array('i',[5,9,8,4,2])\n",
        "#vals.reverse()\n",
        "for i in range(len(vals)):\n",
        "  print(vals[i])"
      ],
      "metadata": {
        "colab": {
          "base_uri": "https://localhost:8080/"
        },
        "id": "X7sWCjTtsFAq",
        "outputId": "2fcf02f2-0c92-4837-a4d2-cf39c2663dfd"
      },
      "execution_count": null,
      "outputs": [
        {
          "output_type": "stream",
          "name": "stdout",
          "text": [
            "5\n",
            "9\n",
            "8\n",
            "4\n",
            "2\n"
          ]
        }
      ]
    },
    {
      "cell_type": "markdown",
      "source": [
        "Create new array with the squares of values in vals"
      ],
      "metadata": {
        "id": "-btpcohltBVh"
      }
    },
    {
      "cell_type": "code",
      "source": [
        "from array import *\n",
        "vals=array('i',[5,9,8,4,2])\n",
        "newArray=array(vals.typecode,(a*a for a in vals))\n",
        "for i in newArray:\n",
        "  print(i)"
      ],
      "metadata": {
        "colab": {
          "base_uri": "https://localhost:8080/"
        },
        "id": "Kz2V8f-YtOD2",
        "outputId": "785f3453-ce76-4b0c-8a72-a06f827f1e36"
      },
      "execution_count": null,
      "outputs": [
        {
          "output_type": "stream",
          "name": "stdout",
          "text": [
            "25\n",
            "81\n",
            "64\n",
            "16\n",
            "4\n"
          ]
        }
      ]
    },
    {
      "cell_type": "markdown",
      "source": [
        "Sort an array in ascending order"
      ],
      "metadata": {
        "id": "7UQMAopduBjo"
      }
    },
    {
      "cell_type": "code",
      "source": [
        "from array import *\n",
        "arr=array('i',[25,55,32,1,6,8,34,5])\n",
        "sort=sorted(arr)\n",
        "print(sort)\n"
      ],
      "metadata": {
        "id": "L3gj5VDVuHuc",
        "colab": {
          "base_uri": "https://localhost:8080/"
        },
        "outputId": "807b563a-f76b-48a8-cfc4-07478b649095"
      },
      "execution_count": 6,
      "outputs": [
        {
          "output_type": "stream",
          "name": "stdout",
          "text": [
            "[1, 5, 6, 8, 25, 32, 34, 55]\n"
          ]
        }
      ]
    },
    {
      "cell_type": "markdown",
      "source": [
        "Find the factorial of the given number"
      ],
      "metadata": {
        "id": "ctTgQtljv4HQ"
      }
    },
    {
      "cell_type": "code",
      "source": [
        "import math as m\n",
        "a = int(input(\"enter the number:\"))\n",
        "print(\"factorial is:\",m.factorial(a))"
      ],
      "metadata": {
        "colab": {
          "base_uri": "https://localhost:8080/"
        },
        "id": "8kpn6gA4v9an",
        "outputId": "efd139b1-a31a-4b55-baaa-c4e0041635f1"
      },
      "execution_count": 8,
      "outputs": [
        {
          "output_type": "stream",
          "name": "stdout",
          "text": [
            "enter the number:5\n",
            "factorial is: 120\n"
          ]
        }
      ]
    },
    {
      "cell_type": "markdown",
      "source": [
        "Inserting values to an array"
      ],
      "metadata": {
        "id": "HTZIyuHYxrbJ"
      }
    },
    {
      "cell_type": "code",
      "source": [
        "from array import *\n",
        "arr = array('i',[])\n",
        "n= int(input(\"enter the length of array:\"))\n",
        "for i in range(n):\n",
        "  x=int(input(\"enter the value:\"))\n",
        "  arr.append(x)\n",
        "print(arr)"
      ],
      "metadata": {
        "colab": {
          "base_uri": "https://localhost:8080/"
        },
        "id": "pSpKpLtlxxTs",
        "outputId": "af62f98d-dac2-4a29-c7a5-002dbd423c2e"
      },
      "execution_count": 9,
      "outputs": [
        {
          "output_type": "stream",
          "name": "stdout",
          "text": [
            "enter the length of array:5\n",
            "enter the value:12\n",
            "enter the value:13\n",
            "enter the value:5\n",
            "enter the value:6\n",
            "enter the value:2\n",
            "array('i', [12, 13, 5, 6, 2])\n"
          ]
        }
      ]
    }
  ]
}