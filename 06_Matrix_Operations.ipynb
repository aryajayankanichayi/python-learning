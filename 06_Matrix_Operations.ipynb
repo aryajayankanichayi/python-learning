{
  "nbformat": 4,
  "nbformat_minor": 0,
  "metadata": {
    "colab": {
      "provenance": [],
      "authorship_tag": "ABX9TyNy5vQcXir732KIH1FWW08X",
      "include_colab_link": true
    },
    "kernelspec": {
      "name": "python3",
      "display_name": "Python 3"
    },
    "language_info": {
      "name": "python"
    }
  },
  "cells": [
    {
      "cell_type": "markdown",
      "metadata": {
        "id": "view-in-github",
        "colab_type": "text"
      },
      "source": [
        "<a href=\"https://colab.research.google.com/github/aryajayankanichayi/python-learning/blob/main/06_Matrix_Operations.ipynb\" target=\"_parent\"><img src=\"https://colab.research.google.com/assets/colab-badge.svg\" alt=\"Open In Colab\"/></a>"
      ]
    },
    {
      "cell_type": "markdown",
      "source": [
        "Multidimensional Array"
      ],
      "metadata": {
        "id": "jSvzL3sB2Osm"
      }
    },
    {
      "cell_type": "markdown",
      "source": [
        "Attributes in multidimensional array\n",
        "\n",
        "1.   dtype - tells about the type of data\n",
        "2.   ndim - shows the no.of dimensions\n",
        "3.   shape - shows the no.of raws and columns\n",
        "4.   size - shows the size of the entire block\n",
        "\n",
        "\n",
        "\n"
      ],
      "metadata": {
        "id": "Pf7DH4lL2tSw"
      }
    },
    {
      "cell_type": "code",
      "execution_count": null,
      "metadata": {
        "colab": {
          "base_uri": "https://localhost:8080/"
        },
        "id": "wYLaHSBT2JWt",
        "outputId": "8a2ce6a2-06f7-4c7e-ac45-59011c125a30"
      },
      "outputs": [
        {
          "output_type": "stream",
          "name": "stdout",
          "text": [
            "[[1 2 3]\n",
            " [4 5 6]]\n"
          ]
        }
      ],
      "source": [
        "from numpy import *\n",
        "arr = array([[1,2,3],[4,5,6]])\n",
        "print(arr)"
      ]
    },
    {
      "cell_type": "markdown",
      "source": [
        "dtype"
      ],
      "metadata": {
        "id": "KOLV3bLu3mY4"
      }
    },
    {
      "cell_type": "code",
      "source": [
        "from numpy import *\n",
        "arr = array([[1,2,3],[4,5,6]])\n",
        "print(arr.dtype)"
      ],
      "metadata": {
        "colab": {
          "base_uri": "https://localhost:8080/"
        },
        "id": "oS-QTYem3f_S",
        "outputId": "ccf3d8d3-9076-438c-afb9-bf4bc9ed2d2a"
      },
      "execution_count": null,
      "outputs": [
        {
          "output_type": "stream",
          "name": "stdout",
          "text": [
            "int64\n"
          ]
        }
      ]
    },
    {
      "cell_type": "markdown",
      "source": [
        "ndim"
      ],
      "metadata": {
        "id": "LzuFt6_r3pJu"
      }
    },
    {
      "cell_type": "code",
      "source": [
        "from numpy import *\n",
        "arr = array([[1,2,3],[4,5,6]])\n",
        "print(arr.ndim)"
      ],
      "metadata": {
        "colab": {
          "base_uri": "https://localhost:8080/"
        },
        "id": "WgR7Nkwv3oVJ",
        "outputId": "6df3f2fa-3f37-44ab-fa0c-3b94c4e26c86"
      },
      "execution_count": null,
      "outputs": [
        {
          "output_type": "stream",
          "name": "stdout",
          "text": [
            "2\n"
          ]
        }
      ]
    },
    {
      "cell_type": "markdown",
      "source": [
        "shape"
      ],
      "metadata": {
        "id": "1S3w7LqR4B0c"
      }
    },
    {
      "cell_type": "code",
      "source": [
        "from numpy import *\n",
        "arr = array([[1,2,3],[4,5,6]])\n",
        "print(arr.shape)"
      ],
      "metadata": {
        "colab": {
          "base_uri": "https://localhost:8080/"
        },
        "id": "MQAeZZqI4A68",
        "outputId": "b90ee17e-f669-4806-f4ff-701f86fa1efd"
      },
      "execution_count": null,
      "outputs": [
        {
          "output_type": "stream",
          "name": "stdout",
          "text": [
            "(2, 3)\n"
          ]
        }
      ]
    },
    {
      "cell_type": "markdown",
      "source": [
        "size"
      ],
      "metadata": {
        "id": "kaQP9s2D4IrS"
      }
    },
    {
      "cell_type": "code",
      "source": [
        "from numpy import *\n",
        "arr = array([[1,2,3],[4,5,6]])\n",
        "print(arr.size)"
      ],
      "metadata": {
        "colab": {
          "base_uri": "https://localhost:8080/"
        },
        "id": "x4eFGyVN4KSr",
        "outputId": "6671c132-f818-44c2-b9a2-1f3a5fa8dc3a"
      },
      "execution_count": null,
      "outputs": [
        {
          "output_type": "stream",
          "name": "stdout",
          "text": [
            "6\n"
          ]
        }
      ]
    },
    {
      "cell_type": "markdown",
      "source": [
        "Conversion of multi- dimensional array to one dimensional array\n",
        "\n",
        "*   flatten()\n",
        "\n"
      ],
      "metadata": {
        "id": "nFmRvfuv4qtP"
      }
    },
    {
      "cell_type": "code",
      "source": [
        "from numpy import *\n",
        "arr1 = array([[1,2,3],[4,5,6]])\n",
        "arr2 = arr1.flatten()\n",
        "print(arr2)"
      ],
      "metadata": {
        "colab": {
          "base_uri": "https://localhost:8080/"
        },
        "id": "2N37Dkoa5Cle",
        "outputId": "9d843027-7ef0-4427-e9b1-fe45f926bbf4"
      },
      "execution_count": null,
      "outputs": [
        {
          "output_type": "stream",
          "name": "stdout",
          "text": [
            "[1 2 3 4 5 6]\n"
          ]
        }
      ]
    },
    {
      "cell_type": "markdown",
      "source": [
        "Coversion of 1-D array to 3-D array\n",
        "\n",
        "*   reshape()\n",
        "\n"
      ],
      "metadata": {
        "id": "X6DEaHpT5Zzf"
      }
    },
    {
      "cell_type": "code",
      "source": [
        "from numpy import *\n",
        "arr1 = array([[1,2,3,4,5,6],[8,9,7,2,4,1]])\n",
        "arr2= arr1.flatten()\n",
        "arr3=arr2.reshape(3,4)\n",
        "print(arr1)\n",
        "print(\" \")\n",
        "print(arr2)\n",
        "print(\" \")\n",
        "print(arr3)"
      ],
      "metadata": {
        "colab": {
          "base_uri": "https://localhost:8080/"
        },
        "id": "iisNi6Zg6Esr",
        "outputId": "e4d56e79-10de-4714-86f4-8866aa0758e2"
      },
      "execution_count": null,
      "outputs": [
        {
          "output_type": "stream",
          "name": "stdout",
          "text": [
            "[[1 2 3 4 5 6]\n",
            " [8 9 7 2 4 1]]\n",
            " \n",
            "[1 2 3 4 5 6 8 9 7 2 4 1]\n",
            " \n",
            "[[1 2 3 4]\n",
            " [5 6 8 9]\n",
            " [7 2 4 1]]\n"
          ]
        }
      ]
    },
    {
      "cell_type": "markdown",
      "source": [
        "matrix() function"
      ],
      "metadata": {
        "id": "juQnkTWw8Di7"
      }
    },
    {
      "cell_type": "code",
      "source": [
        "from numpy import *\n",
        "m=matrix('1 2 3;4 5 6;7 8 9')\n",
        "print(m)"
      ],
      "metadata": {
        "colab": {
          "base_uri": "https://localhost:8080/"
        },
        "id": "ED5B2REi8IN6",
        "outputId": "f93f7677-5154-449e-8f7e-2b20bfcd834d"
      },
      "execution_count": null,
      "outputs": [
        {
          "output_type": "stream",
          "name": "stdout",
          "text": [
            "[[1 2 3]\n",
            " [4 5 6]\n",
            " [7 8 9]]\n"
          ]
        }
      ]
    },
    {
      "cell_type": "markdown",
      "source": [
        "diagional() - print the diagonal elements only"
      ],
      "metadata": {
        "id": "ayHzCwwz8aUE"
      }
    },
    {
      "cell_type": "code",
      "source": [
        "from numpy import *\n",
        "m=matrix('1 2 3;4 5 6;7 8 9')\n",
        "print(diagonal(m))"
      ],
      "metadata": {
        "colab": {
          "base_uri": "https://localhost:8080/"
        },
        "id": "G8bP8ipR8i3v",
        "outputId": "fdf5393b-49d7-47aa-bfcb-99ec6160087f"
      },
      "execution_count": null,
      "outputs": [
        {
          "output_type": "stream",
          "name": "stdout",
          "text": [
            "[1 5 9]\n"
          ]
        }
      ]
    },
    {
      "cell_type": "markdown",
      "source": [
        "min() - print the minimum element\n",
        "max() - print the maximum element"
      ],
      "metadata": {
        "id": "jhUhUm0A8vFQ"
      }
    },
    {
      "cell_type": "code",
      "source": [
        "from numpy import *\n",
        "m=matrix('1 2 3;4 5 6;7 8 9')\n",
        "print(m.min())"
      ],
      "metadata": {
        "colab": {
          "base_uri": "https://localhost:8080/"
        },
        "id": "EF7g59sy9GDX",
        "outputId": "4670fff8-0a84-477a-ca8e-387b34b0482a"
      },
      "execution_count": null,
      "outputs": [
        {
          "output_type": "stream",
          "name": "stdout",
          "text": [
            "1\n"
          ]
        }
      ]
    },
    {
      "cell_type": "code",
      "source": [
        "from numpy import *\n",
        "m=matrix('1 2 3;4 5 6;7 8 9')\n",
        "print(m.max())"
      ],
      "metadata": {
        "colab": {
          "base_uri": "https://localhost:8080/"
        },
        "id": "Zv3ug50E9KY-",
        "outputId": "7e5b6ba2-594a-49b8-b66c-7809b9074443"
      },
      "execution_count": null,
      "outputs": [
        {
          "output_type": "stream",
          "name": "stdout",
          "text": [
            "9\n"
          ]
        }
      ]
    },
    {
      "cell_type": "markdown",
      "source": [
        "Matrix Multiplication"
      ],
      "metadata": {
        "id": "fF9VVgPA9NsN"
      }
    },
    {
      "cell_type": "code",
      "source": [
        "from numpy import *\n",
        "m1=matrix('1 2 3;6 4 5;1 6 7')\n",
        "m2=matrix('1 2 3;6 8 5;2 6 7')\n",
        "m3=m1*m2\n",
        "print(m3)"
      ],
      "metadata": {
        "id": "83_TQxPX9S0m",
        "colab": {
          "base_uri": "https://localhost:8080/"
        },
        "outputId": "a3fd3be7-e420-4f23-c540-b072784da064"
      },
      "execution_count": 2,
      "outputs": [
        {
          "output_type": "stream",
          "name": "stdout",
          "text": [
            "[[19 36 34]\n",
            " [40 74 73]\n",
            " [51 92 82]]\n"
          ]
        }
      ]
    }
  ]
}