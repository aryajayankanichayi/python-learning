{
  "nbformat": 4,
  "nbformat_minor": 0,
  "metadata": {
    "colab": {
      "provenance": [],
      "authorship_tag": "ABX9TyPExqsjbG63y1TjiIjTOq4z",
      "include_colab_link": true
    },
    "kernelspec": {
      "name": "python3",
      "display_name": "Python 3"
    },
    "language_info": {
      "name": "python"
    }
  },
  "cells": [
    {
      "cell_type": "markdown",
      "metadata": {
        "id": "view-in-github",
        "colab_type": "text"
      },
      "source": [
        "<a href=\"https://colab.research.google.com/github/aryajayankanichayi/python-learning/blob/main/01_Swapping_Variables.ipynb\" target=\"_parent\"><img src=\"https://colab.research.google.com/assets/colab-badge.svg\" alt=\"Open In Colab\"/></a>"
      ]
    },
    {
      "cell_type": "markdown",
      "source": [
        "Swapping two variables using temperory variable"
      ],
      "metadata": {
        "id": "hQS58wpIH1yq"
      }
    },
    {
      "cell_type": "code",
      "execution_count": null,
      "metadata": {
        "colab": {
          "base_uri": "https://localhost:8080/"
        },
        "id": "n9tvEushHtAL",
        "outputId": "c7a5ba28-ad67-4f42-87b3-7da68137308a"
      },
      "outputs": [
        {
          "output_type": "stream",
          "name": "stdout",
          "text": [
            "x = 20\n",
            "y = 10\n"
          ]
        }
      ],
      "source": [
        "x=10\n",
        "y=20\n",
        "z=x\n",
        "x=y\n",
        "y=z\n",
        "print('x =',x)\n",
        "print('y =',y)"
      ]
    },
    {
      "cell_type": "markdown",
      "source": [
        "Swapping two variables without using temporary variable"
      ],
      "metadata": {
        "id": "rqQaHzmtIbkU"
      }
    },
    {
      "cell_type": "code",
      "source": [
        "a=50\n",
        "b=65\n",
        "a=a+b\n",
        "b=a-b\n",
        "a=a-b\n",
        "print('a =',a)\n",
        "print('b =',b)"
      ],
      "metadata": {
        "colab": {
          "base_uri": "https://localhost:8080/"
        },
        "id": "NSRc4dhWIog9",
        "outputId": "239c01a5-ec9f-43da-c9ef-23c9b228e738"
      },
      "execution_count": null,
      "outputs": [
        {
          "output_type": "stream",
          "name": "stdout",
          "text": [
            "a = 65\n",
            "b = 50\n"
          ]
        }
      ]
    },
    {
      "cell_type": "markdown",
      "source": [
        "Swapping two variables using XOR"
      ],
      "metadata": {
        "id": "w-dgO2hfJVFd"
      }
    },
    {
      "cell_type": "code",
      "source": [
        "a=50\n",
        "b=101\n",
        "a=a^b\n",
        "b=a^b\n",
        "a=a^b\n",
        "print('a =',a)\n",
        "print('b =',b)\n"
      ],
      "metadata": {
        "colab": {
          "base_uri": "https://localhost:8080/"
        },
        "id": "N9-vrsVaJcaO",
        "outputId": "ea4662d1-3191-4fe2-e661-34e7ed2f9d51"
      },
      "execution_count": null,
      "outputs": [
        {
          "output_type": "stream",
          "name": "stdout",
          "text": [
            "a = 101\n",
            "b = 50\n"
          ]
        }
      ]
    }
  ]
}