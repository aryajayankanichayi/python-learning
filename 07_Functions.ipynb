{
  "nbformat": 4,
  "nbformat_minor": 0,
  "metadata": {
    "colab": {
      "provenance": [],
      "authorship_tag": "ABX9TyOpMvNNQHeW/iXjUA4p7c0Z",
      "include_colab_link": true
    },
    "kernelspec": {
      "name": "python3",
      "display_name": "Python 3"
    },
    "language_info": {
      "name": "python"
    }
  },
  "cells": [
    {
      "cell_type": "markdown",
      "metadata": {
        "id": "view-in-github",
        "colab_type": "text"
      },
      "source": [
        "<a href=\"https://colab.research.google.com/github/aryajayankanichayi/python-learning/blob/main/07_Functions.ipynb\" target=\"_parent\"><img src=\"https://colab.research.google.com/assets/colab-badge.svg\" alt=\"Open In Colab\"/></a>"
      ]
    },
    {
      "cell_type": "markdown",
      "source": [
        "Function creation\n",
        "\n",
        "1.   Define function\n",
        "\n",
        "*   syntax:def <function_name>:\n",
        "                statement1\n",
        "                statement2\n",
        "\n",
        "2.   Call the function\n",
        "\n",
        "*   to execute a function you need to call the function explicitly.\n",
        "\n",
        "\n",
        "\n",
        "\n",
        "\n"
      ],
      "metadata": {
        "id": "fkj_nMzqR3Wv"
      }
    },
    {
      "cell_type": "markdown",
      "source": [
        "Example"
      ],
      "metadata": {
        "id": "vQek9yZoTRw4"
      }
    },
    {
      "cell_type": "code",
      "execution_count": null,
      "metadata": {
        "colab": {
          "base_uri": "https://localhost:8080/"
        },
        "id": "YrAWNVLRQhJg",
        "outputId": "a4645cf9-89b0-4746-a4f1-9eb5ee3bef82"
      },
      "outputs": [
        {
          "output_type": "stream",
          "name": "stdout",
          "text": [
            "Good Morning\n"
          ]
        }
      ],
      "source": [
        "def greetings():\n",
        "  print(\"Good Morning\")\n",
        "greetings()"
      ]
    },
    {
      "cell_type": "markdown",
      "source": [
        "Addition of two numbers"
      ],
      "metadata": {
        "id": "JtdiE-dwWJeN"
      }
    },
    {
      "cell_type": "code",
      "source": [
        "def add():\n",
        "  sum=num1 + num2\n",
        "  print(\"Sum is:\",sum)\n",
        "num1 = int(input(\"enter the 1st number:\"))\n",
        "num2 = int(input(\"enter the 2nd number:\"))\n",
        "add()\n"
      ],
      "metadata": {
        "colab": {
          "base_uri": "https://localhost:8080/"
        },
        "id": "6NzqAC6nWNcH",
        "outputId": "e206138d-178e-4a7f-c93e-56f4aa8093eb"
      },
      "execution_count": null,
      "outputs": [
        {
          "output_type": "stream",
          "name": "stdout",
          "text": [
            "enter the 1st number:5\n",
            "enter the 2nd number:10\n",
            "Sum is: 15\n"
          ]
        }
      ]
    },
    {
      "cell_type": "markdown",
      "source": [
        "Function returning single value"
      ],
      "metadata": {
        "id": "9Wg9oLILaLha"
      }
    },
    {
      "cell_type": "code",
      "source": [
        "def add(x,y):\n",
        "  z=x + y\n",
        "  return z\n",
        "result=add(10,5)\n",
        "print(\"result=\",result)"
      ],
      "metadata": {
        "colab": {
          "base_uri": "https://localhost:8080/"
        },
        "id": "TSc8qk0QX4Vs",
        "outputId": "f02b2066-a636-4dad-cce8-8c671d2d14ec"
      },
      "execution_count": null,
      "outputs": [
        {
          "output_type": "stream",
          "name": "stdout",
          "text": [
            "result= 15\n"
          ]
        }
      ]
    },
    {
      "cell_type": "markdown",
      "source": [
        "Returning two values"
      ],
      "metadata": {
        "id": "eZ3nN1ERY8fD"
      }
    },
    {
      "cell_type": "code",
      "source": [
        "def add_sub(x,y):\n",
        "  z=x + y\n",
        "  d=x-y\n",
        "  return z,d\n",
        "result1,result2=add_sub(10,5)\n",
        "print(\"result1 =\",result,\"result2 =\",result2)"
      ],
      "metadata": {
        "colab": {
          "base_uri": "https://localhost:8080/"
        },
        "id": "-SmWv0aWY_in",
        "outputId": "d7c7c8ca-8f7f-4584-9ca3-8485faaf70cf"
      },
      "execution_count": null,
      "outputs": [
        {
          "output_type": "stream",
          "name": "stdout",
          "text": [
            "result1 = 15 result2 = 5\n"
          ]
        }
      ]
    },
    {
      "cell_type": "markdown",
      "source": [
        "Function Arguments\n",
        "\n",
        "*   Niether pass by value nor pass by reference is used in python\n",
        "*   It passes references to object.\n",
        "\n",
        "Types of Arguments:\n",
        "\n",
        "*   Position\n",
        "*   Keyword\n",
        "*   Default\n",
        "*   Variable Length\n",
        "\n",
        "\n",
        "\n",
        "\n",
        "\n"
      ],
      "metadata": {
        "id": "fgsqHMHHcHM9"
      }
    },
    {
      "cell_type": "markdown",
      "source": [
        "Position"
      ],
      "metadata": {
        "id": "c5YHEfjanreH"
      }
    },
    {
      "cell_type": "code",
      "source": [
        "def person(name,age):\n",
        "  print(name)\n",
        "  print(age)\n",
        "person(\"Teena\",20)"
      ],
      "metadata": {
        "colab": {
          "base_uri": "https://localhost:8080/"
        },
        "id": "j93GVURhb6ZX",
        "outputId": "efe1b96e-46a0-4a45-e1b1-d9baf00757f9"
      },
      "execution_count": null,
      "outputs": [
        {
          "output_type": "stream",
          "name": "stdout",
          "text": [
            "Teena\n",
            "20\n"
          ]
        }
      ]
    },
    {
      "cell_type": "markdown",
      "source": [
        "Keyword - if don't know the sequence of the arguments"
      ],
      "metadata": {
        "id": "Oba-q-CToZg7"
      }
    },
    {
      "cell_type": "code",
      "source": [
        "def person(name,age):\n",
        "  print(name)\n",
        "  age =age+5\n",
        "  print(age)\n",
        "person(age=20,name=\"Teena\")"
      ],
      "metadata": {
        "colab": {
          "base_uri": "https://localhost:8080/"
        },
        "id": "-OXW2e2UomHg",
        "outputId": "d0187006-1aba-4b5c-bde6-696bba3e1efb"
      },
      "execution_count": null,
      "outputs": [
        {
          "output_type": "stream",
          "name": "stdout",
          "text": [
            "Teena\n",
            "25\n"
          ]
        }
      ]
    },
    {
      "cell_type": "markdown",
      "source": [
        "Default - If we are not passing a specific age ,we can set a default value as age and use it."
      ],
      "metadata": {
        "id": "Qc3sliuZo6IQ"
      }
    },
    {
      "cell_type": "code",
      "source": [
        "def person(name,age=18):\n",
        "  print(name)\n",
        "  print(age)\n",
        "person(\"Teena\")"
      ],
      "metadata": {
        "colab": {
          "base_uri": "https://localhost:8080/"
        },
        "id": "ui0KL3napcPb",
        "outputId": "4b45e803-eec7-41ae-a832-d26a0471581b"
      },
      "execution_count": null,
      "outputs": [
        {
          "output_type": "stream",
          "name": "stdout",
          "text": [
            "Teena\n",
            "18\n"
          ]
        }
      ]
    },
    {
      "cell_type": "markdown",
      "source": [
        "If we pass value of age ,it will overwrite the default value"
      ],
      "metadata": {
        "id": "0CdEzQjuph7Q"
      }
    },
    {
      "cell_type": "code",
      "source": [
        "def person(name,age=18):\n",
        "  print(name)\n",
        "  print(age)\n",
        "person(\"Teena\",25)"
      ],
      "metadata": {
        "colab": {
          "base_uri": "https://localhost:8080/"
        },
        "id": "W4GYg8Zrptjl",
        "outputId": "68c59225-b900-4c09-8726-a6111dfdb654"
      },
      "execution_count": null,
      "outputs": [
        {
          "output_type": "stream",
          "name": "stdout",
          "text": [
            "Teena\n",
            "25\n"
          ]
        }
      ]
    },
    {
      "cell_type": "markdown",
      "source": [
        "Variable Length - to pass multiple values as arguments.\n",
        "here,the no.of of arguments are not fixed.We pass arguments as tuple"
      ],
      "metadata": {
        "id": "QjvYsY7Qp0OJ"
      }
    },
    {
      "cell_type": "code",
      "source": [
        "def sum(*b):\n",
        "  c=0\n",
        "  for i in b:\n",
        "    c=c+i\n",
        "  print(c)\n",
        "sum(5,6,34,78)"
      ],
      "metadata": {
        "colab": {
          "base_uri": "https://localhost:8080/"
        },
        "id": "-7sLI7Quq2Ff",
        "outputId": "04575416-03c6-4495-9143-0a42d44f2ad7"
      },
      "execution_count": null,
      "outputs": [
        {
          "output_type": "stream",
          "name": "stdout",
          "text": [
            "123\n"
          ]
        }
      ]
    },
    {
      "cell_type": "markdown",
      "source": [
        "**kwargs - passing multiple arguments with the help of keywords."
      ],
      "metadata": {
        "id": "9dso7CovsNpz"
      }
    },
    {
      "cell_type": "code",
      "source": [
        "def person(name,**data):\n",
        "   print(name)\n",
        "   print(data)\n",
        "person(\"Teena\",age=20,state=\"kerala\",phone=123456789)"
      ],
      "metadata": {
        "colab": {
          "base_uri": "https://localhost:8080/"
        },
        "id": "pDgrmkLPsV78",
        "outputId": "5859b0f9-5e15-4206-fea0-0aca0906f965"
      },
      "execution_count": null,
      "outputs": [
        {
          "output_type": "stream",
          "name": "stdout",
          "text": [
            "Teena\n",
            "{'age': 20, 'state': 'kerala', 'phone': 123456789}\n"
          ]
        }
      ]
    },
    {
      "cell_type": "code",
      "source": [
        "def person(name,**data):\n",
        "   print(name)\n",
        "   for i,j in data.items():\n",
        "      print(i,j)\n",
        "person(\"Teena\",age=20,state=\"kerala\",phone=123456789)"
      ],
      "metadata": {
        "colab": {
          "base_uri": "https://localhost:8080/"
        },
        "id": "MuhsCin0tL2J",
        "outputId": "a831c102-2be0-4a9c-ace0-20b04eeb2178"
      },
      "execution_count": null,
      "outputs": [
        {
          "output_type": "stream",
          "name": "stdout",
          "text": [
            "Teena\n",
            "age 20\n",
            "state kerala\n",
            "phone 123456789\n"
          ]
        }
      ]
    },
    {
      "cell_type": "markdown",
      "source": [
        "Global keyword\n",
        "\n",
        "*   global variable - variable defined outside the function.it can be accessed  globaly.it has higher preference.\n",
        "*   Local variable - difined inside a function.scope limited to the function.\n",
        "\n"
      ],
      "metadata": {
        "id": "1725_pmLt7ZQ"
      }
    },
    {
      "cell_type": "code",
      "source": [
        "a=10        #global variable\n",
        "def variable():\n",
        "  a=5       #local variable\n",
        "  print(\"in fun:\",a)\n",
        "variable()\n",
        "print(\"out fun:\",a)"
      ],
      "metadata": {
        "colab": {
          "base_uri": "https://localhost:8080/"
        },
        "id": "OwJmYWb6u5yf",
        "outputId": "65feba5e-ebb2-498f-b067-8a10d4e9fccb"
      },
      "execution_count": null,
      "outputs": [
        {
          "output_type": "stream",
          "name": "stdout",
          "text": [
            "in fun: 5\n",
            "out fun: 10\n"
          ]
        }
      ]
    },
    {
      "cell_type": "markdown",
      "source": [
        "To use local variable as global variablel ,specify it by using a global keyword"
      ],
      "metadata": {
        "id": "Uvj-yiaKvuww"
      }
    },
    {
      "cell_type": "code",
      "source": [
        "a=10     #global variable\n",
        "def variable():\n",
        "  global a\n",
        "  a=5    #local variable\n",
        "  print(\"in fun:\",a)\n",
        "variable()\n",
        "print(\"out fun:\",a)"
      ],
      "metadata": {
        "colab": {
          "base_uri": "https://localhost:8080/"
        },
        "id": "NGYE59KFv35b",
        "outputId": "aa1d6d82-7953-4469-86cf-922826a6d5da"
      },
      "execution_count": null,
      "outputs": [
        {
          "output_type": "stream",
          "name": "stdout",
          "text": [
            "in fun: 5\n",
            "out fun: 5\n"
          ]
        }
      ]
    },
    {
      "cell_type": "markdown",
      "source": [
        "Passing list to function"
      ],
      "metadata": {
        "id": "AtCebeUIx7-D"
      }
    },
    {
      "cell_type": "code",
      "source": [
        "def count(list):\n",
        "    even = 0\n",
        "    odd = 0\n",
        "    for i in list:\n",
        "      if i%2==0:\n",
        "        even += 1\n",
        "      else:\n",
        "        odd += 1\n",
        "    return even,odd\n",
        "list=[1,2,3,4,5,6,7]\n",
        "even,odd = count(list)\n",
        "print(\"Even : {} and Odd : {}\".format(even,odd))"
      ],
      "metadata": {
        "id": "tB65ekwKx_3e",
        "colab": {
          "base_uri": "https://localhost:8080/"
        },
        "outputId": "5fbb75eb-4dea-4104-d79d-4d7c043e1bb8"
      },
      "execution_count": 23,
      "outputs": [
        {
          "output_type": "stream",
          "name": "stdout",
          "text": [
            "Even : 3 and Odd : 4\n"
          ]
        }
      ]
    }
  ]
}