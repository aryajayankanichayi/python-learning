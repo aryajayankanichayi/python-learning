{
  "nbformat": 4,
  "nbformat_minor": 0,
  "metadata": {
    "colab": {
      "provenance": [],
      "authorship_tag": "ABX9TyO4egr1lGtptGrFwC0RyBbA",
      "include_colab_link": true
    },
    "kernelspec": {
      "name": "python3",
      "display_name": "Python 3"
    },
    "language_info": {
      "name": "python"
    }
  },
  "cells": [
    {
      "cell_type": "markdown",
      "metadata": {
        "id": "view-in-github",
        "colab_type": "text"
      },
      "source": [
        "<a href=\"https://colab.research.google.com/github/aryajayankanichayi/python-learning/blob/main/04_Numpy.ipynb\" target=\"_parent\"><img src=\"https://colab.research.google.com/assets/colab-badge.svg\" alt=\"Open In Colab\"/></a>"
      ]
    },
    {
      "cell_type": "markdown",
      "source": [
        "Numpy"
      ],
      "metadata": {
        "id": "JuttUw3o7xUk"
      }
    },
    {
      "cell_type": "markdown",
      "source": [
        "array()"
      ],
      "metadata": {
        "id": "5amN3dtT-yw8"
      }
    },
    {
      "cell_type": "code",
      "execution_count": 1,
      "metadata": {
        "colab": {
          "base_uri": "https://localhost:8080/"
        },
        "id": "KPPWnmDG1G89",
        "outputId": "925cf967-d778-41ad-a7c6-267b10adfdff"
      },
      "outputs": [
        {
          "output_type": "stream",
          "name": "stdout",
          "text": [
            "[1 2 3 4 5]\n"
          ]
        }
      ],
      "source": [
        "from numpy import *\n",
        "arr=array([1,2,3,4,5])\n",
        "print(arr)"
      ]
    },
    {
      "cell_type": "markdown",
      "source": [
        "An array can only have values of same datatype.\n",
        "In the below example numpy automaticaly converts the values to float.\n",
        "To avoid that we have to specify the datatype."
      ],
      "metadata": {
        "id": "_UM1_y2V8Zfh"
      }
    },
    {
      "cell_type": "code",
      "source": [
        "from numpy import *\n",
        "arr=array([1,2,3.5,4,5,6])\n",
        "print(arr.dtype)"
      ],
      "metadata": {
        "colab": {
          "base_uri": "https://localhost:8080/"
        },
        "id": "lJWeO3wh811B",
        "outputId": "b934378d-e702-4e53-de9e-98b5c8b21d3e"
      },
      "execution_count": 2,
      "outputs": [
        {
          "output_type": "stream",
          "name": "stdout",
          "text": [
            "float64\n"
          ]
        }
      ]
    },
    {
      "cell_type": "code",
      "source": [
        "from numpy import *\n",
        "arr=array([1,2,3.5,4,5,6],int)\n",
        "print(arr.dtype)"
      ],
      "metadata": {
        "colab": {
          "base_uri": "https://localhost:8080/"
        },
        "id": "mIMF1jrT9mgt",
        "outputId": "96555c03-be1f-42de-f463-a7f1291e77db"
      },
      "execution_count": 3,
      "outputs": [
        {
          "output_type": "stream",
          "name": "stdout",
          "text": [
            "int64\n"
          ]
        }
      ]
    },
    {
      "cell_type": "markdown",
      "source": [
        "linspace()"
      ],
      "metadata": {
        "id": "Eia04EDy-8iR"
      }
    },
    {
      "cell_type": "code",
      "source": [
        "from numpy import *\n",
        "arr=linspace(0,15,16)\n",
        "print(arr)"
      ],
      "metadata": {
        "colab": {
          "base_uri": "https://localhost:8080/"
        },
        "id": "OZ9mO06z_Gdq",
        "outputId": "c281bf5e-0010-4844-952d-be3ac09c9135"
      },
      "execution_count": 5,
      "outputs": [
        {
          "output_type": "stream",
          "name": "stdout",
          "text": [
            "[ 0.  1.  2.  3.  4.  5.  6.  7.  8.  9. 10. 11. 12. 13. 14. 15.]\n"
          ]
        }
      ]
    },
    {
      "cell_type": "markdown",
      "source": [
        "arange()"
      ],
      "metadata": {
        "id": "9URjr1aF_eC5"
      }
    },
    {
      "cell_type": "code",
      "source": [
        "from numpy import *\n",
        "arr=arange(1,15,2)\n",
        "print(arr)"
      ],
      "metadata": {
        "colab": {
          "base_uri": "https://localhost:8080/"
        },
        "id": "WXmT9xSW_h2Z",
        "outputId": "e5b8002b-1788-483d-b1c2-abd7a59660d2"
      },
      "execution_count": 6,
      "outputs": [
        {
          "output_type": "stream",
          "name": "stdout",
          "text": [
            "[ 1  3  5  7  9 11 13]\n"
          ]
        }
      ]
    },
    {
      "cell_type": "markdown",
      "source": [
        "logspace()"
      ],
      "metadata": {
        "id": "hIUCDpKi_v0u"
      }
    },
    {
      "cell_type": "code",
      "source": [
        "from numpy import *\n",
        "arr=logspace(0,40,5)\n",
        "print(arr)"
      ],
      "metadata": {
        "colab": {
          "base_uri": "https://localhost:8080/"
        },
        "id": "5NsNJzlH_zWO",
        "outputId": "37a69e12-baef-4571-b75e-2a1fc0ecef8e"
      },
      "execution_count": 7,
      "outputs": [
        {
          "output_type": "stream",
          "name": "stdout",
          "text": [
            "[1.e+00 1.e+10 1.e+20 1.e+30 1.e+40]\n"
          ]
        }
      ]
    },
    {
      "cell_type": "markdown",
      "source": [
        "zeros()"
      ],
      "metadata": {
        "id": "9S2Vb9IEAOMl"
      }
    },
    {
      "cell_type": "code",
      "source": [
        "from numpy import *\n",
        "arr=zeros(5,int)\n",
        "print(arr)"
      ],
      "metadata": {
        "colab": {
          "base_uri": "https://localhost:8080/"
        },
        "id": "5cS9eKEeASx2",
        "outputId": "ef85ecb0-e31f-4777-8f86-fa5945a48f34"
      },
      "execution_count": 9,
      "outputs": [
        {
          "output_type": "stream",
          "name": "stdout",
          "text": [
            "[0 0 0 0 0]\n"
          ]
        }
      ]
    },
    {
      "cell_type": "markdown",
      "source": [
        "ones()"
      ],
      "metadata": {
        "id": "nG5Kj0SbAeYD"
      }
    },
    {
      "cell_type": "code",
      "source": [
        "from numpy import *\n",
        "arr=ones(5,int)\n",
        "print(arr)"
      ],
      "metadata": {
        "colab": {
          "base_uri": "https://localhost:8080/"
        },
        "id": "a-nX0bdLAgah",
        "outputId": "86b6885f-bd63-4f85-aace-3a022aeb13c2"
      },
      "execution_count": 10,
      "outputs": [
        {
          "output_type": "stream",
          "name": "stdout",
          "text": [
            "[1 1 1 1 1]\n"
          ]
        }
      ]
    },
    {
      "cell_type": "markdown",
      "source": [
        "Vectorised Operations"
      ],
      "metadata": {
        "id": "I3U4AyuBBXV0"
      }
    },
    {
      "cell_type": "markdown",
      "source": [
        "Increment each array values by 5"
      ],
      "metadata": {
        "id": "K6-_L9FOBrGM"
      }
    },
    {
      "cell_type": "code",
      "source": [
        "from numpy import *\n",
        "arr=array([1,2,3,4,5])\n",
        "arr=arr+5\n",
        "print(arr)"
      ],
      "metadata": {
        "colab": {
          "base_uri": "https://localhost:8080/"
        },
        "id": "1CL964MsBcVp",
        "outputId": "77564626-fc24-4e51-a9b0-c1a54e2e1257"
      },
      "execution_count": 11,
      "outputs": [
        {
          "output_type": "stream",
          "name": "stdout",
          "text": [
            "[ 6  7  8  9 10]\n"
          ]
        }
      ]
    },
    {
      "cell_type": "markdown",
      "source": [
        "Add to different arrays"
      ],
      "metadata": {
        "id": "UGUZ_ZiABwfR"
      }
    },
    {
      "cell_type": "code",
      "source": [
        "from numpy import *\n",
        "arr1=array([1,2,3,4,5])\n",
        "arr2=array([3,10,4,5,6])\n",
        "arr3=arr1+arr2\n",
        "print(arr3)"
      ],
      "metadata": {
        "colab": {
          "base_uri": "https://localhost:8080/"
        },
        "id": "lVqA6z_UB2IQ",
        "outputId": "9c8fe88c-265c-41f4-f196-b42d709b9f14"
      },
      "execution_count": 12,
      "outputs": [
        {
          "output_type": "stream",
          "name": "stdout",
          "text": [
            "[ 4 12  7  9 11]\n"
          ]
        }
      ]
    },
    {
      "cell_type": "markdown",
      "source": [
        "Array Operations"
      ],
      "metadata": {
        "id": "MYBbrxavCcW_"
      }
    },
    {
      "cell_type": "markdown",
      "source": [
        "sum()"
      ],
      "metadata": {
        "id": "RMuK34G3Cnvr"
      }
    },
    {
      "cell_type": "code",
      "source": [
        "from numpy import *\n",
        "arr1=array([1,2,3,4,5])\n",
        "print(sum(arr1))"
      ],
      "metadata": {
        "colab": {
          "base_uri": "https://localhost:8080/"
        },
        "id": "QLoHW9QqCmtS",
        "outputId": "37931107-830f-401b-dee0-51e956e00f76"
      },
      "execution_count": 13,
      "outputs": [
        {
          "output_type": "stream",
          "name": "stdout",
          "text": [
            "15\n"
          ]
        }
      ]
    },
    {
      "cell_type": "markdown",
      "source": [
        "min()"
      ],
      "metadata": {
        "id": "fDOQkSj-Cz-F"
      }
    },
    {
      "cell_type": "code",
      "source": [
        "from numpy import *\n",
        "arr1=array([1,2,3,4,5])\n",
        "print(min(arr1))"
      ],
      "metadata": {
        "colab": {
          "base_uri": "https://localhost:8080/"
        },
        "id": "qykeAlyJC3O7",
        "outputId": "83e4629a-b83f-4d1c-f830-16d5b952fd69"
      },
      "execution_count": 14,
      "outputs": [
        {
          "output_type": "stream",
          "name": "stdout",
          "text": [
            "1\n"
          ]
        }
      ]
    },
    {
      "cell_type": "markdown",
      "source": [
        "max()"
      ],
      "metadata": {
        "id": "fE-TqWc7DDMV"
      }
    },
    {
      "cell_type": "code",
      "source": [
        "from numpy import *\n",
        "arr1=array([1,2,3,4,5])\n",
        "print(max(arr1))"
      ],
      "metadata": {
        "colab": {
          "base_uri": "https://localhost:8080/"
        },
        "id": "3Q7grxNwDEn-",
        "outputId": "b1b0cc17-f564-48d5-8dff-5bebf277b0a0"
      },
      "execution_count": 15,
      "outputs": [
        {
          "output_type": "stream",
          "name": "stdout",
          "text": [
            "5\n"
          ]
        }
      ]
    },
    {
      "cell_type": "markdown",
      "source": [
        "cos()"
      ],
      "metadata": {
        "id": "5DAnuh9TDIcD"
      }
    },
    {
      "cell_type": "code",
      "source": [
        "from numpy import *\n",
        "arr1=array([1,2,3,4,5])\n",
        "print(cos(arr1))"
      ],
      "metadata": {
        "colab": {
          "base_uri": "https://localhost:8080/"
        },
        "id": "rvdzaK-IDMFF",
        "outputId": "8bd61ead-85be-457d-d155-2ae26f06eba2"
      },
      "execution_count": 16,
      "outputs": [
        {
          "output_type": "stream",
          "name": "stdout",
          "text": [
            "[ 0.54030231 -0.41614684 -0.9899925  -0.65364362  0.28366219]\n"
          ]
        }
      ]
    },
    {
      "cell_type": "markdown",
      "source": [
        "sin()"
      ],
      "metadata": {
        "id": "af0qFnvVDPKO"
      }
    },
    {
      "cell_type": "code",
      "source": [
        "from numpy import *\n",
        "arr1=array([1,2,3,4,5])\n",
        "print(sin(arr1))"
      ],
      "metadata": {
        "colab": {
          "base_uri": "https://localhost:8080/"
        },
        "id": "7Dtzqxm2DQ4q",
        "outputId": "def94d6c-c970-4b15-d590-6f7837f30511"
      },
      "execution_count": 17,
      "outputs": [
        {
          "output_type": "stream",
          "name": "stdout",
          "text": [
            "[ 0.84147098  0.90929743  0.14112001 -0.7568025  -0.95892427]\n"
          ]
        }
      ]
    },
    {
      "cell_type": "markdown",
      "source": [
        "log"
      ],
      "metadata": {
        "id": "yfWHn1xIDUuQ"
      }
    },
    {
      "cell_type": "code",
      "source": [
        "from numpy import *\n",
        "arr1=array([1,2,3,4,5])\n",
        "print(log(arr1))"
      ],
      "metadata": {
        "colab": {
          "base_uri": "https://localhost:8080/"
        },
        "id": "dmKozsiKDXLV",
        "outputId": "1de1c103-51c3-4df4-d727-204a025e8380"
      },
      "execution_count": 18,
      "outputs": [
        {
          "output_type": "stream",
          "name": "stdout",
          "text": [
            "[0.         0.69314718 1.09861229 1.38629436 1.60943791]\n"
          ]
        }
      ]
    },
    {
      "cell_type": "markdown",
      "source": [
        "sqrt()"
      ],
      "metadata": {
        "id": "uRVrXO67DkQ1"
      }
    },
    {
      "cell_type": "code",
      "source": [
        "from numpy import *\n",
        "arr1=array([1,2,3,4,5])\n",
        "print(sqrt(arr1))"
      ],
      "metadata": {
        "colab": {
          "base_uri": "https://localhost:8080/"
        },
        "id": "B9xKgbkfDmSS",
        "outputId": "089323d0-847a-4519-b669-f97d2d1c050f"
      },
      "execution_count": 19,
      "outputs": [
        {
          "output_type": "stream",
          "name": "stdout",
          "text": [
            "[1.         1.41421356 1.73205081 2.         2.23606798]\n"
          ]
        }
      ]
    },
    {
      "cell_type": "markdown",
      "source": [
        " average()"
      ],
      "metadata": {
        "id": "saaNDTxMD0He"
      }
    },
    {
      "cell_type": "code",
      "source": [
        "from numpy import *\n",
        "arr1=array([1,2,3,4,5])\n",
        "print(average(arr1))"
      ],
      "metadata": {
        "colab": {
          "base_uri": "https://localhost:8080/"
        },
        "id": "uZKyx7DdD1sA",
        "outputId": "bcfd4ed9-ff36-4efc-88be-1c0533973f69"
      },
      "execution_count": 20,
      "outputs": [
        {
          "output_type": "stream",
          "name": "stdout",
          "text": [
            "3.0\n"
          ]
        }
      ]
    },
    {
      "cell_type": "markdown",
      "source": [
        "unique()"
      ],
      "metadata": {
        "id": "juud1lYwD-Pt"
      }
    },
    {
      "cell_type": "code",
      "source": [
        "from numpy import *\n",
        "arr1=array([1,2,4,4,5])\n",
        "print(unique(arr1))"
      ],
      "metadata": {
        "colab": {
          "base_uri": "https://localhost:8080/"
        },
        "id": "Cl1r13FcEDZJ",
        "outputId": "b0f01e09-31fb-44d5-b34f-23db0e21bb87"
      },
      "execution_count": 22,
      "outputs": [
        {
          "output_type": "stream",
          "name": "stdout",
          "text": [
            "[1 2 4 5]\n"
          ]
        }
      ]
    },
    {
      "cell_type": "markdown",
      "source": [
        "sort()"
      ],
      "metadata": {
        "id": "niRWa5vgEMbW"
      }
    },
    {
      "cell_type": "code",
      "source": [
        "from numpy import *\n",
        "arr1=array([111,10,3,45,5])\n",
        "print(sort(arr1))"
      ],
      "metadata": {
        "colab": {
          "base_uri": "https://localhost:8080/"
        },
        "id": "fa6Yu2ThEOha",
        "outputId": "9bbd0d58-6e39-468a-d4f3-3922bfaf7a51"
      },
      "execution_count": 23,
      "outputs": [
        {
          "output_type": "stream",
          "name": "stdout",
          "text": [
            "[  3   5  10  45 111]\n"
          ]
        }
      ]
    },
    {
      "cell_type": "markdown",
      "source": [
        "concatenate()"
      ],
      "metadata": {
        "id": "2_2rDsldEZXf"
      }
    },
    {
      "cell_type": "code",
      "source": [
        "from numpy import *\n",
        "arr1=array([1,2,3,4,5])\n",
        "arr2=array([3,10,4,5,6])\n",
        "print(concatenate([arr1,arr2]))"
      ],
      "metadata": {
        "colab": {
          "base_uri": "https://localhost:8080/"
        },
        "id": "qTdcI61BEeFj",
        "outputId": "6b8ef2bc-4dc8-40ec-ea42-e0ba682af58b"
      },
      "execution_count": 25,
      "outputs": [
        {
          "output_type": "stream",
          "name": "stdout",
          "text": [
            "[ 1  2  3  4  5  3 10  4  5  6]\n"
          ]
        }
      ]
    },
    {
      "cell_type": "markdown",
      "source": [
        "Copying An Array\n",
        "\n",
        "Three ways:\n",
        "\n",
        "1.  Alising\n",
        "2. view() -> helps to create new array in differrent location.(shallow copy)\n",
        "3.  copy() -> deep copy\n",
        "\n",
        "\n",
        "\n",
        "\n",
        "\n",
        "\n",
        "\n"
      ],
      "metadata": {
        "id": "js7XylqAAwrd"
      }
    },
    {
      "cell_type": "markdown",
      "source": [
        "Alising:\n",
        "Simply assigning an array to another array.Both arrays will be pointing to the same location"
      ],
      "metadata": {
        "id": "a8P_-PUZGnXt"
      }
    },
    {
      "cell_type": "code",
      "source": [
        "from numpy import *\n",
        "arr1=array([1,2,3,4,5])\n",
        "arr2=arr1\n",
        "print(arr2)"
      ],
      "metadata": {
        "colab": {
          "base_uri": "https://localhost:8080/"
        },
        "id": "hPAhJO5ME_av",
        "outputId": "08424d57-87c4-41de-ff35-24d7993760af"
      },
      "execution_count": 26,
      "outputs": [
        {
          "output_type": "stream",
          "name": "stdout",
          "text": [
            "[1 2 3 4 5]\n"
          ]
        }
      ]
    },
    {
      "cell_type": "markdown",
      "source": [
        "view() -> helps to create new array in differrent location.(shallow copy)Both arrays will have different locations.\n",
        "shallow copy means, when we update one array both array got updated."
      ],
      "metadata": {
        "id": "vX0Bctj6HNqY"
      }
    },
    {
      "cell_type": "code",
      "source": [
        "from numpy import *\n",
        "arr1=array([1,2,3,4,5])\n",
        "arr2=arr1.view()\n",
        "print(arr2)\n",
        "arr1[1]=10\n",
        "print(arr1)\n",
        "print(arr2)"
      ],
      "metadata": {
        "colab": {
          "base_uri": "https://localhost:8080/"
        },
        "id": "sNgC_kOrHn7c",
        "outputId": "c1954803-6aae-4b53-d5d3-abbdcc0a98da"
      },
      "execution_count": 29,
      "outputs": [
        {
          "output_type": "stream",
          "name": "stdout",
          "text": [
            "[1 2 3 4 5]\n",
            "[ 1 10  3  4  5]\n",
            "[ 1 10  3  4  5]\n"
          ]
        }
      ]
    },
    {
      "cell_type": "markdown",
      "source": [
        "deep copy\n",
        "\n",
        "copy() ->  avoids the disadvantage of shallow copy."
      ],
      "metadata": {
        "id": "AWgAw7sYITe9"
      }
    },
    {
      "cell_type": "code",
      "source": [
        "from numpy import *\n",
        "arr1=array([1,2,3,4,5])\n",
        "arr2=arr1.copy()\n",
        "print(arr2)\n",
        "arr1[1]=10\n",
        "print(arr1)\n",
        "print(arr2)"
      ],
      "metadata": {
        "colab": {
          "base_uri": "https://localhost:8080/"
        },
        "id": "ogMMInVDIhUW",
        "outputId": "e73fbd43-7377-488e-b7b3-229ea3905818"
      },
      "execution_count": 30,
      "outputs": [
        {
          "output_type": "stream",
          "name": "stdout",
          "text": [
            "[1 2 3 4 5]\n",
            "[ 1 10  3  4  5]\n",
            "[1 2 3 4 5]\n"
          ]
        }
      ]
    },
    {
      "cell_type": "markdown",
      "source": [
        "Write a code to find the maximum element in an without using built-in functions."
      ],
      "metadata": {
        "id": "Ae4QBHMDMawf"
      }
    },
    {
      "cell_type": "code",
      "source": [
        "from numpy import *\n",
        "arr1=array([1,25,10,4,50])\n",
        "max_val=arr1[0] #Assume the first element is maximum.\n",
        "for i in range(1,len(arr1)):\n",
        "    if arr1[i]>max_val:\n",
        "      max_val=arr1[i]\n",
        "print(\"Maximum value is:\",max_val)"
      ],
      "metadata": {
        "colab": {
          "base_uri": "https://localhost:8080/"
        },
        "id": "xJ51HP7-JCwD",
        "outputId": "58ba8ca1-0fd1-482a-f2fe-ecf5eba59c9c"
      },
      "execution_count": 36,
      "outputs": [
        {
          "output_type": "stream",
          "name": "stdout",
          "text": [
            "Maximum value is: 50\n"
          ]
        }
      ]
    }
  ]
}